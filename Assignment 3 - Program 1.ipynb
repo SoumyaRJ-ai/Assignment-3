{
 "cells": [
  {
   "cell_type": "code",
   "execution_count": 29,
   "metadata": {},
   "outputs": [
    {
     "name": "stdout",
     "output_type": "stream",
     "text": [
      "15\n"
     ]
    }
   ],
   "source": [
    "# Write a Python Program to implement your own myreduce() function which works exactly like Python's built-in function reduce()\n",
    "\n",
    "def sumoflistelements(a,b):\n",
    "    return a+b\n",
    "\n",
    "def myreduce(func,list1):\n",
    "    sum_items=list1[0]\n",
    "    for items in list1[1:]:\n",
    "        sum_items = func(sum_items,items)\n",
    "    return sum_items\n",
    "\n",
    "seq = [1,2,3,4,5]\n",
    "print(myreduce(sumoflistelements,seq))"
   ]
  }
 ],
 "metadata": {
  "kernelspec": {
   "display_name": "Python 3",
   "language": "python",
   "name": "python3"
  },
  "language_info": {
   "codemirror_mode": {
    "name": "ipython",
    "version": 3
   },
   "file_extension": ".py",
   "mimetype": "text/x-python",
   "name": "python",
   "nbconvert_exporter": "python",
   "pygments_lexer": "ipython3",
   "version": "3.7.6"
  }
 },
 "nbformat": 4,
 "nbformat_minor": 4
}
